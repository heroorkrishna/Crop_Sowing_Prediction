{
  "nbformat": 4,
  "nbformat_minor": 0,
  "metadata": {
    "colab": {
      "name": "Crop_Sowing_Prediction using KNN.ipynb",
      "provenance": []
    },
    "kernelspec": {
      "name": "python3",
      "display_name": "Python 3"
    }
  },
  "cells": [
    {
      "cell_type": "markdown",
      "metadata": {
        "id": "1uxpMdirgDhV",
        "colab_type": "text"
      },
      "source": [
        "**Importing Necessary libraries**"
      ]
    },
    {
      "cell_type": "code",
      "metadata": {
        "id": "mIITIagUeu5u",
        "colab_type": "code",
        "colab": {}
      },
      "source": [
        "import pandas as pd\n",
        "from sklearn.neighbors import KNeighborsClassifier"
      ],
      "execution_count": 0,
      "outputs": []
    },
    {
      "cell_type": "markdown",
      "metadata": {
        "id": "X3diOSq6gHfF",
        "colab_type": "text"
      },
      "source": [
        "**Reading the data**"
      ]
    },
    {
      "cell_type": "code",
      "metadata": {
        "id": "aUMT_Lf0f38m",
        "colab_type": "code",
        "colab": {}
      },
      "source": [
        "ad=pd.read_csv(\"/content/agri_ds.csv\")"
      ],
      "execution_count": 0,
      "outputs": []
    },
    {
      "cell_type": "code",
      "metadata": {
        "id": "YqDCVWNnf-0f",
        "colab_type": "code",
        "colab": {
          "base_uri": "https://localhost:8080/",
          "height": 34
        },
        "outputId": "7088b307-1670-41e0-8c4d-bf69a27e5442"
      },
      "source": [
        "ad.shape"
      ],
      "execution_count": 4,
      "outputs": [
        {
          "output_type": "execute_result",
          "data": {
            "text/plain": [
              "(184, 8)"
            ]
          },
          "metadata": {
            "tags": []
          },
          "execution_count": 4
        }
      ]
    },
    {
      "cell_type": "code",
      "metadata": {
        "id": "ZeKDBIK2gQW8",
        "colab_type": "code",
        "colab": {
          "base_uri": "https://localhost:8080/",
          "height": 272
        },
        "outputId": "d0b4d306-262d-4d60-fc04-c84433f2e318"
      },
      "source": [
        "ad.info()"
      ],
      "execution_count": 5,
      "outputs": [
        {
          "output_type": "stream",
          "text": [
            "<class 'pandas.core.frame.DataFrame'>\n",
            "RangeIndex: 184 entries, 0 to 183\n",
            "Data columns (total 8 columns):\n",
            " #   Column       Non-Null Count  Dtype  \n",
            "---  ------       --------------  -----  \n",
            " 0   season       184 non-null    int64  \n",
            " 1   pH value     184 non-null    float64\n",
            " 2   temperature  184 non-null    int64  \n",
            " 3   humidity     184 non-null    int64  \n",
            " 4   rainfall     184 non-null    float64\n",
            " 5   yield        184 non-null    float64\n",
            " 6   water        184 non-null    int64  \n",
            " 7   crop         184 non-null    object \n",
            "dtypes: float64(3), int64(4), object(1)\n",
            "memory usage: 11.6+ KB\n"
          ],
          "name": "stdout"
        }
      ]
    },
    {
      "cell_type": "code",
      "metadata": {
        "id": "Ylrew8iKgYcp",
        "colab_type": "code",
        "colab": {
          "base_uri": "https://localhost:8080/",
          "height": 297
        },
        "outputId": "131933b8-db32-4735-8000-2f3c383ae9bb"
      },
      "source": [
        "ad.describe()"
      ],
      "execution_count": 6,
      "outputs": [
        {
          "output_type": "execute_result",
          "data": {
            "text/html": [
              "<div>\n",
              "<style scoped>\n",
              "    .dataframe tbody tr th:only-of-type {\n",
              "        vertical-align: middle;\n",
              "    }\n",
              "\n",
              "    .dataframe tbody tr th {\n",
              "        vertical-align: top;\n",
              "    }\n",
              "\n",
              "    .dataframe thead th {\n",
              "        text-align: right;\n",
              "    }\n",
              "</style>\n",
              "<table border=\"1\" class=\"dataframe\">\n",
              "  <thead>\n",
              "    <tr style=\"text-align: right;\">\n",
              "      <th></th>\n",
              "      <th>season</th>\n",
              "      <th>pH value</th>\n",
              "      <th>temperature</th>\n",
              "      <th>humidity</th>\n",
              "      <th>rainfall</th>\n",
              "      <th>yield</th>\n",
              "      <th>water</th>\n",
              "    </tr>\n",
              "  </thead>\n",
              "  <tbody>\n",
              "    <tr>\n",
              "      <th>count</th>\n",
              "      <td>184.000000</td>\n",
              "      <td>184.000000</td>\n",
              "      <td>184.000000</td>\n",
              "      <td>184.000000</td>\n",
              "      <td>184.000000</td>\n",
              "      <td>184.000000</td>\n",
              "      <td>184.000000</td>\n",
              "    </tr>\n",
              "    <tr>\n",
              "      <th>mean</th>\n",
              "      <td>0.179348</td>\n",
              "      <td>6.442935</td>\n",
              "      <td>25.864130</td>\n",
              "      <td>61.342391</td>\n",
              "      <td>104.155815</td>\n",
              "      <td>567.161304</td>\n",
              "      <td>57.347826</td>\n",
              "    </tr>\n",
              "    <tr>\n",
              "      <th>std</th>\n",
              "      <td>0.450146</td>\n",
              "      <td>0.773576</td>\n",
              "      <td>4.542214</td>\n",
              "      <td>14.068418</td>\n",
              "      <td>75.719285</td>\n",
              "      <td>2814.418467</td>\n",
              "      <td>14.953798</td>\n",
              "    </tr>\n",
              "    <tr>\n",
              "      <th>min</th>\n",
              "      <td>0.000000</td>\n",
              "      <td>4.500000</td>\n",
              "      <td>13.000000</td>\n",
              "      <td>35.000000</td>\n",
              "      <td>2.870000</td>\n",
              "      <td>0.180000</td>\n",
              "      <td>25.000000</td>\n",
              "    </tr>\n",
              "    <tr>\n",
              "      <th>25%</th>\n",
              "      <td>0.000000</td>\n",
              "      <td>5.900000</td>\n",
              "      <td>23.000000</td>\n",
              "      <td>50.000000</td>\n",
              "      <td>52.750000</td>\n",
              "      <td>0.607500</td>\n",
              "      <td>50.000000</td>\n",
              "    </tr>\n",
              "    <tr>\n",
              "      <th>50%</th>\n",
              "      <td>0.000000</td>\n",
              "      <td>6.400000</td>\n",
              "      <td>26.000000</td>\n",
              "      <td>61.000000</td>\n",
              "      <td>76.000000</td>\n",
              "      <td>1.655000</td>\n",
              "      <td>60.000000</td>\n",
              "    </tr>\n",
              "    <tr>\n",
              "      <th>75%</th>\n",
              "      <td>0.000000</td>\n",
              "      <td>6.900000</td>\n",
              "      <td>29.000000</td>\n",
              "      <td>72.000000</td>\n",
              "      <td>139.250000</td>\n",
              "      <td>5.322500</td>\n",
              "      <td>70.000000</td>\n",
              "    </tr>\n",
              "    <tr>\n",
              "      <th>max</th>\n",
              "      <td>2.000000</td>\n",
              "      <td>8.500000</td>\n",
              "      <td>38.000000</td>\n",
              "      <td>94.000000</td>\n",
              "      <td>498.000000</td>\n",
              "      <td>15575.230000</td>\n",
              "      <td>85.000000</td>\n",
              "    </tr>\n",
              "  </tbody>\n",
              "</table>\n",
              "</div>"
            ],
            "text/plain": [
              "           season    pH value  ...         yield      water \n",
              "count  184.000000  184.000000  ...    184.000000  184.000000\n",
              "mean     0.179348    6.442935  ...    567.161304   57.347826\n",
              "std      0.450146    0.773576  ...   2814.418467   14.953798\n",
              "min      0.000000    4.500000  ...      0.180000   25.000000\n",
              "25%      0.000000    5.900000  ...      0.607500   50.000000\n",
              "50%      0.000000    6.400000  ...      1.655000   60.000000\n",
              "75%      0.000000    6.900000  ...      5.322500   70.000000\n",
              "max      2.000000    8.500000  ...  15575.230000   85.000000\n",
              "\n",
              "[8 rows x 7 columns]"
            ]
          },
          "metadata": {
            "tags": []
          },
          "execution_count": 6
        }
      ]
    },
    {
      "cell_type": "code",
      "metadata": {
        "id": "OwQ_qvcggYaF",
        "colab_type": "code",
        "colab": {
          "base_uri": "https://localhost:8080/",
          "height": 204
        },
        "outputId": "8ee5e8ef-d43a-4627-f5e3-8c2f62915a2f"
      },
      "source": [
        "ad.head()"
      ],
      "execution_count": 7,
      "outputs": [
        {
          "output_type": "execute_result",
          "data": {
            "text/html": [
              "<div>\n",
              "<style scoped>\n",
              "    .dataframe tbody tr th:only-of-type {\n",
              "        vertical-align: middle;\n",
              "    }\n",
              "\n",
              "    .dataframe tbody tr th {\n",
              "        vertical-align: top;\n",
              "    }\n",
              "\n",
              "    .dataframe thead th {\n",
              "        text-align: right;\n",
              "    }\n",
              "</style>\n",
              "<table border=\"1\" class=\"dataframe\">\n",
              "  <thead>\n",
              "    <tr style=\"text-align: right;\">\n",
              "      <th></th>\n",
              "      <th>season</th>\n",
              "      <th>pH value</th>\n",
              "      <th>temperature</th>\n",
              "      <th>humidity</th>\n",
              "      <th>rainfall</th>\n",
              "      <th>yield</th>\n",
              "      <th>water</th>\n",
              "      <th>crop</th>\n",
              "    </tr>\n",
              "  </thead>\n",
              "  <tbody>\n",
              "    <tr>\n",
              "      <th>0</th>\n",
              "      <td>1</td>\n",
              "      <td>5.5</td>\n",
              "      <td>26</td>\n",
              "      <td>36</td>\n",
              "      <td>143.0</td>\n",
              "      <td>3.99</td>\n",
              "      <td>80</td>\n",
              "      <td>Rice</td>\n",
              "    </tr>\n",
              "    <tr>\n",
              "      <th>1</th>\n",
              "      <td>1</td>\n",
              "      <td>5.7</td>\n",
              "      <td>29</td>\n",
              "      <td>37</td>\n",
              "      <td>99.0</td>\n",
              "      <td>4.26</td>\n",
              "      <td>80</td>\n",
              "      <td>Rice</td>\n",
              "    </tr>\n",
              "    <tr>\n",
              "      <th>2</th>\n",
              "      <td>1</td>\n",
              "      <td>5.9</td>\n",
              "      <td>22</td>\n",
              "      <td>38</td>\n",
              "      <td>110.0</td>\n",
              "      <td>4.64</td>\n",
              "      <td>80</td>\n",
              "      <td>Rice</td>\n",
              "    </tr>\n",
              "    <tr>\n",
              "      <th>3</th>\n",
              "      <td>1</td>\n",
              "      <td>6.0</td>\n",
              "      <td>27</td>\n",
              "      <td>39</td>\n",
              "      <td>107.0</td>\n",
              "      <td>3.61</td>\n",
              "      <td>80</td>\n",
              "      <td>Rice</td>\n",
              "    </tr>\n",
              "    <tr>\n",
              "      <th>4</th>\n",
              "      <td>1</td>\n",
              "      <td>6.2</td>\n",
              "      <td>20</td>\n",
              "      <td>40</td>\n",
              "      <td>137.0</td>\n",
              "      <td>4.65</td>\n",
              "      <td>80</td>\n",
              "      <td>Rice</td>\n",
              "    </tr>\n",
              "  </tbody>\n",
              "</table>\n",
              "</div>"
            ],
            "text/plain": [
              "   season  pH value  temperature  humidity  rainfall  yield  water   crop\n",
              "0       1       5.5           26        36     143.0   3.99      80  Rice\n",
              "1       1       5.7           29        37      99.0   4.26      80  Rice\n",
              "2       1       5.9           22        38     110.0   4.64      80  Rice\n",
              "3       1       6.0           27        39     107.0   3.61      80  Rice\n",
              "4       1       6.2           20        40     137.0   4.65      80  Rice"
            ]
          },
          "metadata": {
            "tags": []
          },
          "execution_count": 7
        }
      ]
    },
    {
      "cell_type": "markdown",
      "metadata": {
        "id": "WHivIBCBgk89",
        "colab_type": "text"
      },
      "source": [
        "**Defining dependent and independent variables of model**"
      ]
    },
    {
      "cell_type": "code",
      "metadata": {
        "id": "oIu-4tdzgYXK",
        "colab_type": "code",
        "colab": {}
      },
      "source": [
        "y = ad['crop'].values   #dependent\n",
        "X = ad.drop('crop', axis=1).values   #independent"
      ],
      "execution_count": 0,
      "outputs": []
    },
    {
      "cell_type": "markdown",
      "metadata": {
        "id": "MInmFzQwguQa",
        "colab_type": "text"
      },
      "source": [
        "**Creating Model using KNN and fitting the model**"
      ]
    },
    {
      "cell_type": "code",
      "metadata": {
        "id": "EpZKTcpZgYT8",
        "colab_type": "code",
        "colab": {}
      },
      "source": [
        "knn = KNeighborsClassifier(n_neighbors=6)"
      ],
      "execution_count": 0,
      "outputs": []
    },
    {
      "cell_type": "code",
      "metadata": {
        "id": "U5cjesV7gYRB",
        "colab_type": "code",
        "colab": {
          "base_uri": "https://localhost:8080/",
          "height": 68
        },
        "outputId": "cec9f89d-1347-4380-8afe-00b9c66e5895"
      },
      "source": [
        "knn.fit(X,y)"
      ],
      "execution_count": 10,
      "outputs": [
        {
          "output_type": "execute_result",
          "data": {
            "text/plain": [
              "KNeighborsClassifier(algorithm='auto', leaf_size=30, metric='minkowski',\n",
              "                     metric_params=None, n_jobs=None, n_neighbors=6, p=2,\n",
              "                     weights='uniform')"
            ]
          },
          "metadata": {
            "tags": []
          },
          "execution_count": 10
        }
      ]
    },
    {
      "cell_type": "markdown",
      "metadata": {
        "id": "V9L5LRWPg5cU",
        "colab_type": "text"
      },
      "source": [
        "**Model Accuracy**"
      ]
    },
    {
      "cell_type": "code",
      "metadata": {
        "id": "UPMqx_SSgYMO",
        "colab_type": "code",
        "colab": {
          "base_uri": "https://localhost:8080/",
          "height": 493
        },
        "outputId": "8b7f5cd8-9a68-48c2-d9a2-2ba10f36ac12"
      },
      "source": [
        "y_pred = knn.predict(X)\n",
        "print(\"Prediction : {}\".format(y_pred))"
      ],
      "execution_count": 11,
      "outputs": [
        {
          "output_type": "stream",
          "text": [
            "Prediction : ['Rice' 'Ragi' 'Ragi' 'Ragi' 'Rice' 'Rice' 'Rice' 'Jowar' 'Maize' 'Maize'\n",
            " 'Groundnut' 'Jowar' 'Groundnut' 'Maize' 'Jowar' 'Jowar' 'Jowar' 'Jowar'\n",
            " 'Jowar' 'Jowar' 'Jowar' 'Bajra' 'Bajra' 'Bajra' 'Bajra' 'Bajra' 'Bajra'\n",
            " 'Bajra' 'Ragi' 'Ragi' 'Greengram' 'Greengram' 'Ragi' 'Ragi' 'Ragi'\n",
            " 'Arhar' 'Arhar' 'Arhar' 'Arhar' 'Arhar' 'Arhar' 'Arhar' 'Sugarcane'\n",
            " 'Sugarcane' 'Sugarcane' 'Sugarcane' 'Sugarcane' 'Sugarcane' 'Sugarcane'\n",
            " 'Maize' 'Groundnut' 'Groundnut' 'Groundnut' 'Groundnut' 'Groundnut'\n",
            " 'Groundnut' 'Sesame' 'Sesame' 'Sesame' 'Sesame' 'Sesame' 'Sesame'\n",
            " 'Sesame' 'Cotton' 'Cotton' 'Cotton' 'Cotton' 'Cotton' 'Cotton' 'Cotton'\n",
            " 'Gram' 'Castorseed' 'Castorseed' 'Groundnut' 'Cashewnut' 'Smallmillets'\n",
            " 'Smallmillets' 'Banana' 'Banana' 'Banana' 'Banana' 'Banana' 'Banana'\n",
            " 'Banana' 'Cashewnut' 'Sugarcane' 'Cashewnut' 'Cashewnut' 'Cashewnut'\n",
            " 'Cashewnut' 'Cashewnut' 'Castorseed' 'Castorseed' 'Castorseed'\n",
            " 'Castorseed' 'Castorseed' 'Castorseed' 'Castorseed' 'Cashewnut'\n",
            " 'Coriander' 'Coriander' 'Coriander' 'Cashewnut' 'Coriander' 'Coriander'\n",
            " 'Coconut' 'Coconut' 'Coconut' 'Coconut' 'Coconut' 'Coconut' 'Coconut'\n",
            " 'Castorseed' 'Castorseed' 'Chilly' 'Chilly' 'Chilly' 'Chilly' 'Cotton'\n",
            " 'Gram' 'Cotton' 'Gram' 'Gram' 'Gram' 'Gram' 'Gram' 'Horsegram' 'Gram'\n",
            " 'Onion' 'Horsegram' 'Horsegram' 'Horsegram' 'Castorseed' 'Greengram'\n",
            " 'Greengram' 'Greengram' 'Greengram' 'Greengram' 'Greengram' 'Greengram'\n",
            " 'Jowar' 'Greengram' 'Onion' 'Onion' 'Onion' 'Onion' 'Onion' 'Onion'\n",
            " 'Onion' 'Smallmillets' 'Smallmillets' 'Smallmillets' 'Smallmillets'\n",
            " 'Horsegram' 'Smallmillets' 'Smallmillets' 'Smallmillets' 'Sweet potato'\n",
            " 'Sweet potato' 'Sweet potato' 'Sweet potato' 'Sweet potato'\n",
            " 'Sweet potato' 'Ragi' 'Tapioca' 'Tapioca' 'Tapioca' 'Tapioca' 'Tapioca'\n",
            " 'Tapioca' 'Turmeric' 'Smallmillets' 'Turmeric' 'Sweet potato' 'Cashewnut'\n",
            " 'Cashewnut' 'Turmeric' 'Sesame' 'Urad' 'Sesame' 'Sesame' 'Ragi' 'Urad'\n",
            " 'Sesame']\n"
          ],
          "name": "stdout"
        }
      ]
    },
    {
      "cell_type": "code",
      "metadata": {
        "id": "ydDXES66gYGy",
        "colab_type": "code",
        "colab": {
          "base_uri": "https://localhost:8080/",
          "height": 34
        },
        "outputId": "8ef2f97c-0fc4-46af-d48c-8b8ea205d8f3"
      },
      "source": [
        "from sklearn import metrics\n",
        "print(\"Model Accuracy:\",metrics.accuracy_score(y, y_pred)*100)"
      ],
      "execution_count": 12,
      "outputs": [
        {
          "output_type": "stream",
          "text": [
            "Model Accuracy: 77.71739130434783\n"
          ],
          "name": "stdout"
        }
      ]
    },
    {
      "cell_type": "markdown",
      "metadata": {
        "id": "qt6-T2N0hHrK",
        "colab_type": "text"
      },
      "source": [
        "**Mannually testing the model**"
      ]
    },
    {
      "cell_type": "code",
      "metadata": {
        "id": "8imN0YWrhKmy",
        "colab_type": "code",
        "colab": {}
      },
      "source": [
        "x_new = ['1','5.9','29','38','110','4.68','80']"
      ],
      "execution_count": 0,
      "outputs": []
    },
    {
      "cell_type": "code",
      "metadata": {
        "id": "IOCHQWdihNpP",
        "colab_type": "code",
        "colab": {
          "base_uri": "https://localhost:8080/",
          "height": 105
        },
        "outputId": "9ee4426a-6709-42a4-ffbd-c7e4ac9bcde7"
      },
      "source": [
        "new_pred = knn.predict([x_new])"
      ],
      "execution_count": 14,
      "outputs": [
        {
          "output_type": "stream",
          "text": [
            "/usr/local/lib/python3.6/dist-packages/sklearn/neighbors/_classification.py:171: FutureWarning: Beginning in version 0.22, arrays of bytes/strings will be converted to decimal numbers if dtype='numeric'. It is recommended that you convert the array to a float dtype before using it in scikit-learn, for example by using your_array = your_array.astype(np.float64).\n",
            "  X = check_array(X, accept_sparse='csr')\n",
            "/usr/local/lib/python3.6/dist-packages/sklearn/neighbors/_base.py:605: FutureWarning: Beginning in version 0.22, arrays of bytes/strings will be converted to decimal numbers if dtype='numeric'. It is recommended that you convert the array to a float dtype before using it in scikit-learn, for example by using your_array = your_array.astype(np.float64).\n",
            "  X = check_array(X, accept_sparse='csr')\n"
          ],
          "name": "stderr"
        }
      ]
    },
    {
      "cell_type": "code",
      "metadata": {
        "id": "sQ3mqa_NhNlA",
        "colab_type": "code",
        "colab": {
          "base_uri": "https://localhost:8080/",
          "height": 34
        },
        "outputId": "2ebcc596-6528-4cc3-9dd9-2a80fabf560a"
      },
      "source": [
        "print(\"Prediction : {}\".format(new_pred))"
      ],
      "execution_count": 15,
      "outputs": [
        {
          "output_type": "stream",
          "text": [
            "Prediction : ['Ragi']\n"
          ],
          "name": "stdout"
        }
      ]
    },
    {
      "cell_type": "code",
      "metadata": {
        "id": "KEY5N5JhhNgg",
        "colab_type": "code",
        "colab": {}
      },
      "source": [
        "x_new = ['2','6.5','30','35','90','2.73','70']"
      ],
      "execution_count": 0,
      "outputs": []
    },
    {
      "cell_type": "code",
      "metadata": {
        "id": "lXOh85T5hNak",
        "colab_type": "code",
        "colab": {
          "base_uri": "https://localhost:8080/",
          "height": 105
        },
        "outputId": "1170c92e-3197-4c38-980d-fada7b2f8515"
      },
      "source": [
        "new_pred = knn.predict([x_new])"
      ],
      "execution_count": 17,
      "outputs": [
        {
          "output_type": "stream",
          "text": [
            "/usr/local/lib/python3.6/dist-packages/sklearn/neighbors/_classification.py:171: FutureWarning: Beginning in version 0.22, arrays of bytes/strings will be converted to decimal numbers if dtype='numeric'. It is recommended that you convert the array to a float dtype before using it in scikit-learn, for example by using your_array = your_array.astype(np.float64).\n",
            "  X = check_array(X, accept_sparse='csr')\n",
            "/usr/local/lib/python3.6/dist-packages/sklearn/neighbors/_base.py:605: FutureWarning: Beginning in version 0.22, arrays of bytes/strings will be converted to decimal numbers if dtype='numeric'. It is recommended that you convert the array to a float dtype before using it in scikit-learn, for example by using your_array = your_array.astype(np.float64).\n",
            "  X = check_array(X, accept_sparse='csr')\n"
          ],
          "name": "stderr"
        }
      ]
    },
    {
      "cell_type": "code",
      "metadata": {
        "id": "wbjnqjsDhc4j",
        "colab_type": "code",
        "colab": {
          "base_uri": "https://localhost:8080/",
          "height": 34
        },
        "outputId": "1c61ed82-a980-4275-dda6-a5fc99dc6c2b"
      },
      "source": [
        "print(\"Prediction : {}\".format(new_pred))"
      ],
      "execution_count": 19,
      "outputs": [
        {
          "output_type": "stream",
          "text": [
            "Prediction : ['Ragi']\n"
          ],
          "name": "stdout"
        }
      ]
    },
    {
      "cell_type": "code",
      "metadata": {
        "id": "rZ9AXF8vhoAq",
        "colab_type": "code",
        "colab": {}
      },
      "source": [
        "x_new = ['0','6.1','20','35','80','4.73','70']"
      ],
      "execution_count": 0,
      "outputs": []
    },
    {
      "cell_type": "code",
      "metadata": {
        "id": "QKLDz4Yah0cE",
        "colab_type": "code",
        "colab": {
          "base_uri": "https://localhost:8080/",
          "height": 105
        },
        "outputId": "1d6cad0b-885f-409f-b600-0db572ee97a3"
      },
      "source": [
        "new_pred = knn.predict([x_new])"
      ],
      "execution_count": 22,
      "outputs": [
        {
          "output_type": "stream",
          "text": [
            "/usr/local/lib/python3.6/dist-packages/sklearn/neighbors/_classification.py:171: FutureWarning: Beginning in version 0.22, arrays of bytes/strings will be converted to decimal numbers if dtype='numeric'. It is recommended that you convert the array to a float dtype before using it in scikit-learn, for example by using your_array = your_array.astype(np.float64).\n",
            "  X = check_array(X, accept_sparse='csr')\n",
            "/usr/local/lib/python3.6/dist-packages/sklearn/neighbors/_base.py:605: FutureWarning: Beginning in version 0.22, arrays of bytes/strings will be converted to decimal numbers if dtype='numeric'. It is recommended that you convert the array to a float dtype before using it in scikit-learn, for example by using your_array = your_array.astype(np.float64).\n",
            "  X = check_array(X, accept_sparse='csr')\n"
          ],
          "name": "stderr"
        }
      ]
    },
    {
      "cell_type": "code",
      "metadata": {
        "id": "ik5wz4cDhtbp",
        "colab_type": "code",
        "colab": {
          "base_uri": "https://localhost:8080/",
          "height": 34
        },
        "outputId": "1d79c84c-767f-4485-dab8-0e75d7e0077c"
      },
      "source": [
        "print(\"Prediction : {}\".format(new_pred))"
      ],
      "execution_count": 23,
      "outputs": [
        {
          "output_type": "stream",
          "text": [
            "Prediction : ['Maize']\n"
          ],
          "name": "stdout"
        }
      ]
    },
    {
      "cell_type": "code",
      "metadata": {
        "id": "0HPTt-mph6QS",
        "colab_type": "code",
        "colab": {}
      },
      "source": [
        "x=[\"0\",\"5.0\",\"21\",\"90\",\"75.00\",'12.10','70']"
      ],
      "execution_count": 0,
      "outputs": []
    },
    {
      "cell_type": "code",
      "metadata": {
        "id": "T3vRlMi1h6Ki",
        "colab_type": "code",
        "colab": {
          "base_uri": "https://localhost:8080/",
          "height": 105
        },
        "outputId": "90dac011-8865-475b-95d9-5184f188910a"
      },
      "source": [
        "new_pred = knn.predict([x_new])"
      ],
      "execution_count": 25,
      "outputs": [
        {
          "output_type": "stream",
          "text": [
            "/usr/local/lib/python3.6/dist-packages/sklearn/neighbors/_classification.py:171: FutureWarning: Beginning in version 0.22, arrays of bytes/strings will be converted to decimal numbers if dtype='numeric'. It is recommended that you convert the array to a float dtype before using it in scikit-learn, for example by using your_array = your_array.astype(np.float64).\n",
            "  X = check_array(X, accept_sparse='csr')\n",
            "/usr/local/lib/python3.6/dist-packages/sklearn/neighbors/_base.py:605: FutureWarning: Beginning in version 0.22, arrays of bytes/strings will be converted to decimal numbers if dtype='numeric'. It is recommended that you convert the array to a float dtype before using it in scikit-learn, for example by using your_array = your_array.astype(np.float64).\n",
            "  X = check_array(X, accept_sparse='csr')\n"
          ],
          "name": "stderr"
        }
      ]
    },
    {
      "cell_type": "code",
      "metadata": {
        "id": "RrIhRvAfh9Zh",
        "colab_type": "code",
        "colab": {
          "base_uri": "https://localhost:8080/",
          "height": 34
        },
        "outputId": "49551bd6-dc77-4dd4-968c-0b03db15e083"
      },
      "source": [
        "print(\"Prediction : {}\".format(new_pred))"
      ],
      "execution_count": 26,
      "outputs": [
        {
          "output_type": "stream",
          "text": [
            "Prediction : ['Maize']\n"
          ],
          "name": "stdout"
        }
      ]
    }
  ]
}